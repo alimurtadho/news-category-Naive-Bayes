{
 "cells": [
  {
   "cell_type": "code",
   "execution_count": 1,
   "metadata": {
    "id": "qcoSxvp6gnoC"
   },
   "outputs": [],
   "source": [
    "%matplotlib inline\n",
    "import pandas as pd"
   ]
  },
  {
   "cell_type": "code",
   "execution_count": 2,
   "metadata": {
    "id": "Us3vLkPekuXD"
   },
   "outputs": [],
   "source": [
    "titles = [] # list of news titles\n",
    "categories = [] # list of news categories\n",
    "labels = [] # list of different categories (without repetitions)\n",
    "nlabels = 4 # number of different categories\n",
    "lnews = [] # list of dictionaries with two fields: one for the news and \n",
    "            # the other for its category"
   ]
  },
  {
   "cell_type": "code",
   "execution_count": null,
   "metadata": {
    "id": "9md4z3m4tgZ6"
   },
   "outputs": [],
   "source": [
    "read_file = pd.read_excel (r'Path where the Excel file is stored\\File name.xlsx')\n",
    "read_file.to_csv (r'Path to store the CSV file\\File name.csv', index = None, header=True)"
   ]
  },
  {
   "cell_type": "code",
   "execution_count": 13,
   "metadata": {
    "id": "4ru9GwjjkyKt"
   },
   "outputs": [],
   "source": [
    "def import_data():\n",
    "    global titles, labels, categories\n",
    "    # importing news aggregator data via Pandas (Python Data Analysis Library)\n",
    "    file = r'/content/News Title.xls'  \n",
    "    news = pd.read_excel(file)\n",
    "    # function 'head' shows the first 5 items in a column (or\n",
    "    # the first 5 rows in the DataFrame)\n",
    "    print(news.head())\n",
    "    categories = news['Category']\n",
    "    titles = news['News Title']\n",
    "    labels = sorted(list(set(categories)))"
   ]
  },
  {
   "cell_type": "code",
   "execution_count": 14,
   "metadata": {
    "colab": {
     "base_uri": "https://localhost:8080/"
    },
    "id": "rh7vUBh_skET",
    "outputId": "61111a24-63c5-4cd7-9654-54a6a82e677b"
   },
   "outputs": [
    {
     "name": "stdout",
     "output_type": "stream",
     "text": [
      "   No                                         News Title       Category\n",
      "0   1  Google+ rolls out 'Stories' for tricked out ph...     Technology\n",
      "1   2                    Dov Charney's Redeeming Quality       Business\n",
      "2   3   White God adds Un Certain Regard to the Palm Dog  Entertainment\n",
      "3   4  Google shows off Androids for wearables, cars,...     Technology\n",
      "4   5         China May new bank loans at 870.8 bln yuan       Business\n",
      "CPU times: user 1.09 s, sys: 38.4 ms, total: 1.12 s\n",
      "Wall time: 1.13 s\n"
     ]
    }
   ],
   "source": [
    "%time import_data()"
   ]
  },
  {
   "cell_type": "code",
   "execution_count": 15,
   "metadata": {
    "colab": {
     "base_uri": "https://localhost:8080/"
    },
    "id": "U-JhtaFgt4Zc",
    "outputId": "287909f1-96ea-4d34-856e-b7f3271fae8d"
   },
   "outputs": [
    {
     "name": "stdout",
     "output_type": "stream",
     "text": [
      "        category   news   percent\n",
      "0       Business  17707  0.270192\n",
      "1  Entertainment  23961  0.365621\n",
      "2        Medical   7091  0.108202\n",
      "3     Technology  16776  0.255985\n",
      "total \t 65535\n"
     ]
    }
   ],
   "source": [
    "from collections import Counter\n",
    "\n",
    "def count_data(labels,categories):    \n",
    "    c = Counter(categories)\n",
    "    cont = dict(c)\n",
    "    # total number of news\n",
    "    tot = sum(list(cont.values()))     \n",
    "    d = {\n",
    "        \"category\" : labels,\n",
    "        \"news\" : [cont[l] for l in labels],\n",
    "        \"percent\" : [cont[l]/tot for l in labels]\n",
    "    }\n",
    "   \n",
    "    print(pd.DataFrame(d))   \n",
    "    print(\"total \\t\",tot) \n",
    "    \n",
    "    return cont\n",
    "\n",
    "cont = count_data(labels,categories)"
   ]
  },
  {
   "cell_type": "code",
   "execution_count": 16,
   "metadata": {
    "colab": {
     "base_uri": "https://localhost:8080/",
     "height": 264
    },
    "id": "51WgPBVdt7pg",
    "outputId": "39b1fb45-bb2a-497c-91ef-999bf3a0acc7"
   },
   "outputs": [
    {
     "data": {
      "image/png": "[encoded data removed]",
      "text/plain": [
       "<Figure size 432x288 with 1 Axes>"
      ]
     },
     "metadata": {
      "tags": []
     },
     "output_type": "display_data"
    }
   ],
   "source": [
    "import pylab as pl # useful for drawing graphics\n",
    "\n",
    "def categories_pie_plot(cont,tit):\n",
    "    global labels\n",
    "    sizes = [cont[l] for l in labels]\n",
    "    pl.pie(sizes, explode=(0, 0, 0, 0), labels=labels,\n",
    "        autopct='%1.1f%%', shadow=True, startangle=90)\n",
    "    pl.title(tit)\n",
    "    pl.show()\n",
    "    \n",
    "categories_pie_plot(cont,\"Plotting categories\")"
   ]
  },
  {
   "cell_type": "markdown",
   "metadata": {
    "id": "We-HyUFqt_2B"
   },
   "source": [
    "## Split dataset"
   ]
  },
  {
   "cell_type": "code",
   "execution_count": 18,
   "metadata": {
    "id": "nXSgil2KvFAV"
   },
   "outputs": [],
   "source": [
    "from sklearn.utils import shuffle # Shuffle arrays in a consistent way\n",
    "\n",
    "X_train = []\n",
    "y_train = []\n",
    "X_test = []\n",
    "y_test = []\n",
    "\n",
    "def split_data():\n",
    "    global titles, categories\n",
    "    global X_train, y_train, X_test, y_test,labels\n",
    "    N = len(titles)\n",
    "    Ntrain = int(N * 0.7)    \n",
    "    # Let's shuffle the data\n",
    "    titles, categories = shuffle(titles, categories, random_state=0)\n",
    "    X_train = titles[:Ntrain]\n",
    "    y_train = categories[:Ntrain]\n",
    "    X_test = titles[Ntrain:]\n",
    "    y_test = categories[Ntrain:]"
   ]
  },
  {
   "cell_type": "code",
   "execution_count": 19,
   "metadata": {
    "colab": {
     "base_uri": "https://localhost:8080/"
    },
    "id": "5E3WU9Nou9lT",
    "outputId": "33c9e7a0-9b24-4cff-a2ab-d3cb6ba224bd"
   },
   "outputs": [
    {
     "name": "stdout",
     "output_type": "stream",
     "text": [
      "CPU times: user 12.1 ms, sys: 13 µs, total: 12.1 ms\n",
      "Wall time: 13.5 ms\n"
     ]
    }
   ],
   "source": [
    "%time split_data()"
   ]
  },
  {
   "cell_type": "code",
   "execution_count": 20,
   "metadata": {
    "colab": {
     "base_uri": "https://localhost:8080/"
    },
    "id": "TVwsX4jvvPg5",
    "outputId": "e1e1b75a-872b-461b-d8d3-3916d246b686"
   },
   "outputs": [
    {
     "name": "stdout",
     "output_type": "stream",
     "text": [
      "        category   news   percent\n",
      "0       Business  12304  0.268213\n",
      "1  Entertainment  16795  0.366112\n",
      "2        Medical   5026  0.109561\n",
      "3     Technology  11749  0.256115\n",
      "total \t 45874\n"
     ]
    }
   ],
   "source": [
    "#Waktu yang dibutuhkan untuk membagi data adalah 13.5 detik. Sekarang mari kita menganalisis proporsi kategori berita di set pelatihan.\n",
    "cont2 = count_data(labels,y_train)\n"
   ]
  },
  {
   "cell_type": "code",
   "execution_count": 21,
   "metadata": {
    "colab": {
     "base_uri": "https://localhost:8080/",
     "height": 264
    },
    "id": "h65iZCp9veoE",
    "outputId": "8b0549e9-50ae-43a9-85fe-d41d97134f99"
   },
   "outputs": [
    {
     "data": {
      "image/png": "[encoded data removed]",
      "text/plain": [
       "<Figure size 432x288 with 1 Axes>"
      ]
     },
     "metadata": {
      "tags": []
     },
     "output_type": "display_data"
    }
   ],
   "source": [
    "#Persentase sangat dekat dengan yang diperoleh untuk seluruh kumpulan data.\n",
    "categories_pie_plot(cont2,\"Categories % in training set\")"
   ]
  },
  {
   "cell_type": "markdown",
   "metadata": {
    "id": "ghKBTyy8vnvu"
   },
   "source": [
    "## Train and test the classifier"
   ]
  },
  {
   "cell_type": "code",
   "execution_count": 22,
   "metadata": {
    "id": "o-X4myLovlKD"
   },
   "outputs": [],
   "source": [
    "from sklearn.feature_extraction.text import CountVectorizer \n",
    "from sklearn.feature_extraction.text import TfidfTransformer \n",
    "from sklearn.naive_bayes import MultinomialNB \n",
    "from sklearn.pipeline import Pipeline \n",
    "from sklearn import metrics \n",
    "import numpy as np\n",
    "import pprint\n",
    "\n",
    "# lmats = [] # list of confussion matrix \n",
    "nrows = nlabels\n",
    "ncols = nlabels\n",
    "# conf_mat_sum = np.zeros((nrows, ncols))\n",
    "# f1_acum = [] # list of f1-score\n",
    "\n",
    "def train_test():\n",
    "    global X_train, y_train, X_test, y_test, labels \n",
    "    #lmats, \\\n",
    "     #       conf_mat_sum, f1_acum, ncategories\n",
    "    text_clf = Pipeline([('vect', CountVectorizer()),\n",
    "                         ('tfidf', TfidfTransformer()),\n",
    "                         ('clf', MultinomialNB()),\n",
    "                         ])\n",
    "    text_clf = text_clf.fit(X_train, y_train)\n",
    "    predicted = text_clf.predict(X_test)\n",
    "    return predicted"
   ]
  },
  {
   "cell_type": "code",
   "execution_count": 23,
   "metadata": {
    "colab": {
     "base_uri": "https://localhost:8080/"
    },
    "id": "iDP6JQ8svtKU",
    "outputId": "9a3fa78f-ca32-4449-8d9d-96749bf87a83"
   },
   "outputs": [
    {
     "name": "stdout",
     "output_type": "stream",
     "text": [
      "CPU times: user 891 ms, sys: 5.04 ms, total: 896 ms\n",
      "Wall time: 914 ms\n"
     ]
    }
   ],
   "source": [
    "%time predicted = train_test()\n"
   ]
  },
  {
   "cell_type": "code",
   "execution_count": 24,
   "metadata": {
    "colab": {
     "base_uri": "https://localhost:8080/"
    },
    "id": "7Bbwt2KDvvrA",
    "outputId": "9c4762fb-d965-48d5-a769-63a732b2bba4"
   },
   "outputs": [
    {
     "data": {
      "text/plain": [
       "0.896241289863181"
      ]
     },
     "execution_count": 24,
     "metadata": {
      "tags": []
     },
     "output_type": "execute_result"
    }
   ],
   "source": [
    "metrics.accuracy_score(y_test, predicted)"
   ]
  },
  {
   "cell_type": "code",
   "execution_count": 25,
   "metadata": {
    "colab": {
     "base_uri": "https://localhost:8080/"
    },
    "id": "35Cn_lEKvx2t",
    "outputId": "99922b52-ada5-48e0-c167-35e78577d3a7"
   },
   "outputs": [
    {
     "name": "stdout",
     "output_type": "stream",
     "text": [
      "               precision    recall  f1-score   support\n",
      "\n",
      "     Business       0.87      0.89      0.88      5403\n",
      "Entertainment       0.91      0.97      0.94      7166\n",
      "      Medical       0.98      0.69      0.81      2065\n",
      "   Technology       0.88      0.88      0.88      5027\n",
      "\n",
      "     accuracy                           0.90     19661\n",
      "    macro avg       0.91      0.86      0.88     19661\n",
      " weighted avg       0.90      0.90      0.89     19661\n",
      "\n"
     ]
    }
   ],
   "source": [
    "print(metrics.classification_report(y_test, predicted, target_names=labels))"
   ]
  },
  {
   "cell_type": "code",
   "execution_count": 28,
   "metadata": {
    "id": "2KeSo6eFwf9P"
   },
   "outputs": [],
   "source": [
    "def resume_data(labels,y_train,f1s):\n",
    "    c = Counter(y_train)\n",
    "    cont = dict(c)\n",
    "    tot = sum(list(cont.values()))\n",
    "    nlabels = len(labels)\n",
    "    d = {\n",
    "        \"category\" : [labels[i] for i in range(nlabels)],\n",
    "        \"percent\" : [cont[labels[i]]/tot for i in range(nlabels)],\n",
    "        \"f1-score\" : [f1s[i] for i in range(nlabels)]\n",
    "    }\n",
    "   \n",
    "    print(pd.DataFrame(d))   \n",
    "    print(\"total \\t\",tot) \n",
    "    return cont"
   ]
  },
  {
   "cell_type": "code",
   "execution_count": 29,
   "metadata": {
    "colab": {
     "base_uri": "https://localhost:8080/"
    },
    "id": "ITBdSZwywjHh",
    "outputId": "e56d547f-b9fb-4cd7-e1ec-4f99983b00c6"
   },
   "outputs": [
    {
     "name": "stdout",
     "output_type": "stream",
     "text": [
      "        category   percent  f1-score\n",
      "0       Business  0.268213  0.879287\n",
      "1  Entertainment  0.366112  0.940733\n",
      "2        Medical  0.109561  0.809321\n",
      "3     Technology  0.256115  0.879341\n",
      "total \t 45874\n"
     ]
    }
   ],
   "source": [
    "f1s = metrics.f1_score(y_test, predicted, labels=labels, average=None)\n",
    "cont3 = resume_data(labels,y_train,f1s)"
   ]
  }
 ],
 "metadata": {
  "colab": {
   "name": "news_category_clasification",
   "provenance": []
  },
  "kernelspec": {
   "display_name": "Python 3",
   "language": "python",
   "name": "python3"
  },
  "language_info": {
   "codemirror_mode": {
    "name": "ipython",
    "version": 3
   },
   "file_extension": ".py",
   "mimetype": "text/x-python",
   "name": "python",
   "nbconvert_exporter": "python",
   "pygments_lexer": "ipython3",
   "version": "3.8.7"
  }
 },
 "nbformat": 4,
 "nbformat_minor": 1
}
